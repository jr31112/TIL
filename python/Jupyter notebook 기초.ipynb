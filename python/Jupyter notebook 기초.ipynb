{
 "cells": [
  {
   "cell_type": "code",
   "execution_count": 1,
   "metadata": {},
   "outputs": [
    {
     "name": "stdout",
     "output_type": "stream",
     "text": [
      "hello\n"
     ]
    }
   ],
   "source": [
    "print('hello')"
   ]
  },
  {
   "cell_type": "code",
   "execution_count": 2,
   "metadata": {},
   "outputs": [],
   "source": [
    "# a - above : 위에 칸 만들기"
   ]
  },
  {
   "cell_type": "code",
   "execution_count": 8,
   "metadata": {
    "scrolled": true
   },
   "outputs": [
    {
     "data": {
      "text/plain": [
       "8"
      ]
     },
     "execution_count": 8,
     "metadata": {},
     "output_type": "execute_result"
    }
   ],
   "source": [
    "3 + 5 # 실행은 ctrl + enter"
   ]
  },
  {
   "cell_type": "code",
   "execution_count": 4,
   "metadata": {},
   "outputs": [],
   "source": [
    "# b - below : 아래에 칸 만들기"
   ]
  },
  {
   "cell_type": "code",
   "execution_count": 5,
   "metadata": {},
   "outputs": [],
   "source": [
    "a = 5"
   ]
  },
  {
   "cell_type": "code",
   "execution_count": 6,
   "metadata": {},
   "outputs": [],
   "source": [
    "a = 3"
   ]
  },
  {
   "cell_type": "code",
   "execution_count": 7,
   "metadata": {},
   "outputs": [
    {
     "name": "stdout",
     "output_type": "stream",
     "text": [
      "3\n"
     ]
    }
   ],
   "source": [
    "print(a)"
   ]
  },
  {
   "cell_type": "markdown",
   "metadata": {},
   "source": [
    "# 마크다운\n",
    "m을 누르면 마크다운으로 바뀐다."
   ]
  },
  {
   "cell_type": "code",
   "execution_count": 54,
   "metadata": {},
   "outputs": [
    {
     "data": {
      "text/plain": [
       "datetime.datetime(2019, 7, 13, 0, 0)"
      ]
     },
     "execution_count": 54,
     "metadata": {},
     "output_type": "execute_result"
    }
   ],
   "source": [
    "import datetime\n",
    "\n",
    "datetime.datetime(2019, 7, 13)"
   ]
  },
  {
   "cell_type": "code",
   "execution_count": 50,
   "metadata": {},
   "outputs": [
    {
     "name": "stdout",
     "output_type": "stream",
     "text": [
      "('20180728', '20180804', '20180811', '20180818', '20180825', '20180901', '20180908', '20180915', '20180922', '20180929', '20181006', '20181013', '20181020', '20181027', '20181103', '20181110', '20181117', '20181124', '20181201', '20181208', '20181215', '20181222', '20181229', '20190105', '20190112', '20190119', '20190126', '20190202', '20190209', '20190216', '20190223', '20190302', '20190309', '20190316', '20190323', '20190330', '20190406', '20190413', '20190420', '20190427', '20190504', '20190511', '20190518', '20190525', '20190601', '20190608', '20190615', '20190622', '20190629', '20190706', '20190713')\n"
     ]
    }
   ],
   "source": [
    "import requests\n",
    "import pprint\n",
    "import datetime\n",
    "\n",
    "time_data50 = []\n",
    "for i in range(51):\n",
    "    time_data50.append((datetime.datetime(2019, 7, 13) -datetime.timedelta(days=7*(50-i))).strftime('%Y%m%d'))\n",
    "\n",
    "time_data50 = tuple(time_data50)\n",
    "print(time_data50)"
   ]
  },
  {
   "cell_type": "code",
   "execution_count": 51,
   "metadata": {},
   "outputs": [
    {
     "ename": "TypeError",
     "evalue": "'module' object is not callable",
     "output_type": "error",
     "traceback": [
      "\u001b[1;31m---------------------------------------------------------------------------\u001b[0m",
      "\u001b[1;31mTypeError\u001b[0m                                 Traceback (most recent call last)",
      "\u001b[1;32m<ipython-input-51-6f702dc134d0>\u001b[0m in \u001b[0;36m<module>\u001b[1;34m\u001b[0m\n\u001b[0;32m      6\u001b[0m     \u001b[0mweekmovie\u001b[0m \u001b[1;33m=\u001b[0m \u001b[0mresponse\u001b[0m\u001b[1;33m.\u001b[0m\u001b[0mget\u001b[0m\u001b[1;33m(\u001b[0m\u001b[1;34m'boxOfficeResult'\u001b[0m\u001b[1;33m)\u001b[0m\u001b[1;33m.\u001b[0m\u001b[0mget\u001b[0m\u001b[1;33m(\u001b[0m\u001b[1;34m'weeklyBoxOfficeList'\u001b[0m\u001b[1;33m)\u001b[0m\u001b[1;33m\u001b[0m\u001b[1;33m\u001b[0m\u001b[0m\n\u001b[0;32m      7\u001b[0m \u001b[1;33m\u001b[0m\u001b[0m\n\u001b[1;32m----> 8\u001b[1;33m \u001b[0mpprint\u001b[0m\u001b[1;33m(\u001b[0m\u001b[0mweekmovie\u001b[0m\u001b[1;33m)\u001b[0m\u001b[1;33m\u001b[0m\u001b[1;33m\u001b[0m\u001b[0m\n\u001b[0m",
      "\u001b[1;31mTypeError\u001b[0m: 'module' object is not callable"
     ]
    }
   ],
   "source": [
    "key = '81d4bb3e7393ee1878ab06a81eef2188'\n",
    "for j in time_data50:\n",
    "    targetDt = j # yyymmdd\n",
    "    api_url = f' http://www.kobis.or.kr/kobisopenapi/webservice/rest/boxoffice/searchWeeklyBoxOfficeList.json?key={key}&targetDt={targetDt}&weekGb=0'\n",
    "    response = requests.get(api_url).json()\n",
    "    weekmovie = response.get('boxOfficeResult').get('weeklyBoxOfficeList')\n",
    "\n",
    "pprint(weekmovie)"
   ]
  },
  {
   "cell_type": "code",
   "execution_count": 53,
   "metadata": {},
   "outputs": [
    {
     "name": "stdout",
     "output_type": "stream",
     "text": [
      "{'극장판 엉덩이 탐정: 화려한 사건 수첩': {'누적관객수': '101245',\n",
      "                           '영화이름': '극장판 엉덩이 탐정: 화려한 사건 수첩',\n",
      "                           '영화코드': '20191601'},\n",
      " '기방도령': {'누적관객수': '220182', '영화이름': '기방도령', '영화코드': '20185353'},\n",
      " '기생충': {'누적관객수': '9919835', '영화이름': '기생충', '영화코드': '20183782'},\n",
      " '미드소마': {'누적관객수': '45707', '영화이름': '미드소마', '영화코드': '20192151'},\n",
      " '스파이더맨: 파 프롬 홈': {'누적관객수': '6685160',\n",
      "                   '영화이름': '스파이더맨: 파 프롬 홈',\n",
      "                   '영화코드': '20196309'},\n",
      " '알라딘': {'누적관객수': '10161238', '영화이름': '알라딘', '영화코드': '20183867'},\n",
      " '애나벨 집으로': {'누적관객수': '459037', '영화이름': '애나벨 집으로', '영화코드': '20199951'},\n",
      " '존 윅 3: 파라벨룸': {'누적관객수': '913066', '영화이름': '존 윅 3: 파라벨룸', '영화코드': '20196655'},\n",
      " '진범': {'누적관객수': '106756', '영화이름': '진범', '영화코드': '20185986'},\n",
      " '토이 스토리 4': {'누적관객수': '3151063', '영화이름': '토이 스토리 4', '영화코드': '20184047'}}\n"
     ]
    }
   ],
   "source": [
    "import requests\n",
    "import pprint\n",
    "import datetime\n",
    "\n",
    "key = '81d4bb3e7393ee1878ab06a81eef2188'\n",
    "targetDt = '20190713' # yyymmdd\n",
    "api_url = f' http://www.kobis.or.kr/kobisopenapi/webservice/rest/boxoffice/searchWeeklyBoxOfficeList.json?key={key}&targetDt={targetDt}&weekGb=0'\n",
    "response = requests.get(api_url).json()\n",
    "weekmovie = response.get('boxOfficeResult').get('weeklyBoxOfficeList')\n",
    "\n",
    "\n",
    "for i in range(len(weekmovie)):\n",
    "    movie_stats.update(\n",
    "        {weekmovie[i].get('movieNm') : {\n",
    "                '영화코드' : weekmovie[i].get('movieCd'),\n",
    "                '영화이름' : weekmovie[i].get('movieNm'),\n",
    "        '누적관객수' : weekmovie[i].get('audiAcc')\n",
    "            }\n",
    "        }\n",
    "    )\n",
    "\n",
    "pprint.pprint(movie_stats)"
   ]
  }
 ],
 "metadata": {
  "kernelspec": {
   "display_name": "Python 3",
   "language": "python",
   "name": "python3"
  },
  "language_info": {
   "codemirror_mode": {
    "name": "ipython",
    "version": 3
   },
   "file_extension": ".py",
   "mimetype": "text/x-python",
   "name": "python",
   "nbconvert_exporter": "python",
   "pygments_lexer": "ipython3",
   "version": "3.7.3"
  },
  "toc": {
   "base_numbering": 1,
   "nav_menu": {},
   "number_sections": true,
   "sideBar": true,
   "skip_h1_title": false,
   "title_cell": "Table of Contents",
   "title_sidebar": "Contents",
   "toc_cell": false,
   "toc_position": {},
   "toc_section_display": true,
   "toc_window_display": false
  }
 },
 "nbformat": 4,
 "nbformat_minor": 2
}

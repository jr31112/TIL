{
 "cells": [
  {
   "cell_type": "code",
   "execution_count": 57,
   "metadata": {},
   "outputs": [],
   "source": [
    "# 아래에 코드를 작성해주세요.\n",
    "import random\n",
    "\n",
    "class Pikachu():\n",
    "    \n",
    "    def __init__(self, name):\n",
    "        self.name = name\n",
    "        self.level = 5\n",
    "        self.hp = self.level * random.randint(15, 20)\n",
    "        self.exp = 0\n",
    "        print(f'{self.name}의 hp는 {self.hp}입니다.')\n",
    "    \n",
    "    def bark(self):\n",
    "        print('pikachu~♡')\n",
    "    \n",
    "    def body_attack(self, enemy):\n",
    "        print(f'{self.name}이 {enemy.name}을 몸통박치기 공격했다...!')\n",
    "        if random.randint(0,1):\n",
    "            enemy.hp -= self.level * 5\n",
    "            print(f'{enemy.name}의 체력이 {enemy.hp}로 되었다...!')\n",
    "            if enemy.hp <= 0:\n",
    "                self.exp += enemy.level * 15\n",
    "            if self.exp >=100:\n",
    "                self.level += 1\n",
    "                self.exp = 0\n",
    "        else:\n",
    "            print('공격에 실패했다.')\n",
    "        \n",
    "    def thousond_volt(self, enemy):\n",
    "        print(f'{self.name}이 {enemy.name}을 백만볼트 공격했다...!')\n",
    "        if random.randint(0,1):\n",
    "            enemy.hp -= self.level * 7\n",
    "            print(f'{enemy.name}의 체력이 {enemy.hp}로 되었다...!')\n",
    "            if enemy.hp <= 0:\n",
    "                self.exp += enemy.level * 15\n",
    "            if self.exp >=100:\n",
    "                self.level += 1\n",
    "                self.exp = 0\n",
    "        else:\n",
    "            print('공격에 실패했다.')\n",
    "    \n",
    "    def __repr__(self):\n",
    "        return f'{self.name}의 레벨은 {self.level} 경험치는 {self.exp}/100 입니다.'"
   ]
  },
  {
   "cell_type": "code",
   "execution_count": 20,
   "metadata": {},
   "outputs": [
    {
     "name": "stdout",
     "output_type": "stream",
     "text": [
      "피카츄1의 hp는 100입니다.\n",
      "피카츄2의 hp는 95입니다.\n",
      "피카츄1이 피카츄2을 몸통박치기 공격했다...!\n",
      "피카츄2의 체력이 70로 되었다...!\n"
     ]
    }
   ],
   "source": [
    "p1 = Pikachu('피카츄1')\n",
    "p2 = Pikachu('피카츄2')\n",
    "p1.body_attack(p2)"
   ]
  },
  {
   "cell_type": "code",
   "execution_count": 58,
   "metadata": {},
   "outputs": [
    {
     "name": "stdout",
     "output_type": "stream",
     "text": [
      "플레이어 1의 이름을 정해주세요: red\n",
      "플레이어 2의 이름을 정해주세요: green\n",
      "red의 hp는 80입니다.\n",
      "green의 hp는 100입니다.\n",
      "=======1회차 공격!!======\n",
      "pikachu~♡\n",
      "pikachu~♡\n",
      "=======2회차 공격!!======\n",
      "pikachu~♡\n",
      "green이 red을 몸통박치기 공격했다...!\n",
      "공격에 실패했다.\n",
      "=======3회차 공격!!======\n",
      "red이 green을 몸통박치기 공격했다...!\n",
      "공격에 실패했다.\n",
      "green이 red을 백만볼트 공격했다...!\n",
      "red의 체력이 45로 되었다...!\n",
      "=======4회차 공격!!======\n",
      "red이 green을 백만볼트 공격했다...!\n",
      "green의 체력이 65로 되었다...!\n",
      "green이 red을 몸통박치기 공격했다...!\n",
      "red의 체력이 20로 되었다...!\n",
      "=======5회차 공격!!======\n",
      "red이 green을 몸통박치기 공격했다...!\n",
      "공격에 실패했다.\n",
      "green이 red을 몸통박치기 공격했다...!\n",
      "공격에 실패했다.\n",
      "=======6회차 공격!!======\n",
      "red이 green을 몸통박치기 공격했다...!\n",
      "공격에 실패했다.\n",
      "green이 red을 백만볼트 공격했다...!\n",
      "red의 체력이 -15로 되었다...!\n",
      "red은 쓰러졌다\n",
      "green의 레벨은 5 경험치는 75/100 입니다.\n"
     ]
    }
   ],
   "source": [
    "p1_name = input('플레이어 1의 이름을 정해주세요: ')\n",
    "p2_name = input('플레이어 2의 이름을 정해주세요: ')\n",
    "p1 = Pikachu(p1_name)\n",
    "p2 = Pikachu(p2_name)\n",
    "movement = ['bark', 'body_attack', 'thousond_volt']\n",
    "turn = 0\n",
    "while True:\n",
    "    turn += 1\n",
    "    print(f'======={turn}회차 공격!!======')\n",
    "    a = random.randint(0,2)\n",
    "    if a == 0:\n",
    "        p1.bark()\n",
    "    elif a == 1:\n",
    "        p1.body_attack(p2)\n",
    "    else:\n",
    "        p1.thousond_volt(p2)\n",
    "    if p2.hp < 0:\n",
    "        print(f'{p2.name}은 쓰러졌다')\n",
    "        print(p1)\n",
    "        break\n",
    "    b = random.randint(0,2)\n",
    "    if b == 0:\n",
    "        p2.bark()\n",
    "    elif b == 1:\n",
    "        p2.body_attack(p1)\n",
    "    else:\n",
    "        p2.thousond_volt(p1)\n",
    "    if p1.hp < 0:\n",
    "        print(f'{p1.name}은 쓰러졌다')\n",
    "        print(p2)\n",
    "        break    "
   ]
  }
 ],
 "metadata": {
  "kernelspec": {
   "display_name": "Python 3",
   "language": "python",
   "name": "python3"
  },
  "language_info": {
   "codemirror_mode": {
    "name": "ipython",
    "version": 3
   },
   "file_extension": ".py",
   "mimetype": "text/x-python",
   "name": "python",
   "nbconvert_exporter": "python",
   "pygments_lexer": "ipython3",
   "version": "3.7.3"
  },
  "toc": {
   "base_numbering": 1,
   "nav_menu": {},
   "number_sections": true,
   "sideBar": true,
   "skip_h1_title": false,
   "title_cell": "Table of Contents",
   "title_sidebar": "Contents",
   "toc_cell": false,
   "toc_position": {},
   "toc_section_display": true,
   "toc_window_display": false
  }
 },
 "nbformat": 4,
 "nbformat_minor": 2
}
